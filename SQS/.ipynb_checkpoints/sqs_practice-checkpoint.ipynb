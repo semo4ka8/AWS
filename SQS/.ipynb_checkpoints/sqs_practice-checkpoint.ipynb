{
 "cells": [
  {
   "cell_type": "markdown",
   "id": "588adc7b",
   "metadata": {},
   "source": [
    "# Getting started with SQS Queue - AWS\n",
    "\n",
    "Create resource object"
   ]
  },
  {
   "cell_type": "code",
   "execution_count": 39,
   "id": "b366ec12",
   "metadata": {},
   "outputs": [],
   "source": [
    "import boto3\n",
    "client = boto3.resource('sqs', region_name='us-west-2',\n",
    "                    aws_access_key_id=\"AWS ACCESS KEY GOES HERE\",\n",
    "                    aws_secret_access_key=\"SECRETE KEY GOES HERE\") \n",
    "\n"
   ]
  },
  {
   "cell_type": "code",
   "execution_count": 40,
   "id": "87e03e02",
   "metadata": {},
   "outputs": [
    {
     "data": {
      "text/plain": [
       "sqs.ServiceResource()"
      ]
     },
     "execution_count": 40,
     "metadata": {},
     "output_type": "execute_result"
    }
   ],
   "source": [
    "client"
   ]
  },
  {
   "cell_type": "markdown",
   "id": "37116b73",
   "metadata": {},
   "source": [
    "**Send Message**"
   ]
  },
  {
   "cell_type": "code",
   "execution_count": 41,
   "id": "2eb22f75",
   "metadata": {},
   "outputs": [],
   "source": [
    "queue = client.get_queue_by_name(QueueName='my_queue') #QUEUE NAME GOES HERE"
   ]
  },
  {
   "cell_type": "code",
   "execution_count": 42,
   "id": "d63e381f",
   "metadata": {},
   "outputs": [],
   "source": [
    "response = queue.send_message(MessageBody='Hello World from Python !')"
   ]
  },
  {
   "cell_type": "code",
   "execution_count": 43,
   "id": "5bb8c63e",
   "metadata": {},
   "outputs": [
    {
     "data": {
      "text/plain": [
       "{'MD5OfMessageBody': 'eeb165f292fb4b7c8dbe4838b2940a6f',\n",
       " 'MessageId': '4e921651-0d3b-4559-b429-6ec8bb774201',\n",
       " 'ResponseMetadata': {'RequestId': '3dbaf701-e450-53af-9d9d-ac15a87e0684',\n",
       "  'HTTPStatusCode': 200,\n",
       "  'HTTPHeaders': {'x-amzn-requestid': '3dbaf701-e450-53af-9d9d-ac15a87e0684',\n",
       "   'date': 'Fri, 03 Jun 2022 17:50:38 GMT',\n",
       "   'content-type': 'text/xml',\n",
       "   'content-length': '378'},\n",
       "  'RetryAttempts': 0}}"
      ]
     },
     "execution_count": 43,
     "metadata": {},
     "output_type": "execute_result"
    }
   ],
   "source": [
    "response"
   ]
  },
  {
   "cell_type": "markdown",
   "id": "d54c6371",
   "metadata": {},
   "source": [
    "**Sending Multiple Messages**"
   ]
  },
  {
   "cell_type": "code",
   "execution_count": 27,
   "id": "f0d861e1",
   "metadata": {},
   "outputs": [],
   "source": [
    "response = queue.send_messages(Entries=[\n",
    "    {\n",
    "        'Id': '1',\n",
    "        'MessageBody': 'world'\n",
    "    },\n",
    "    {\n",
    "        'Id': '2',\n",
    "        'MessageBody': 'boto3',\n",
    "        'MessageAttributes': {\n",
    "            'Author': {\n",
    "                'StringValue': 'Anna',\n",
    "                'DataType': 'String'\n",
    "            }\n",
    "        }\n",
    "    }\n",
    "])"
   ]
  },
  {
   "cell_type": "code",
   "execution_count": 28,
   "id": "f547f01b",
   "metadata": {},
   "outputs": [
    {
     "data": {
      "text/plain": [
       "{'Successful': [{'Id': '1',\n",
       "   'MessageId': 'b6631495-223f-4d82-8e2a-7691bcb818cc',\n",
       "   'MD5OfMessageBody': '7d793037a0760186574b0282f2f435e7'},\n",
       "  {'Id': '2',\n",
       "   'MessageId': '0604f8ec-4b62-4d19-9a14-1e04c9f9637c',\n",
       "   'MD5OfMessageBody': '6686853da3491a56c98917cc5c4ddea2',\n",
       "   'MD5OfMessageAttributes': '140e876f24a94f2111c784b85f53e14c'}],\n",
       " 'ResponseMetadata': {'RequestId': 'b1abe39f-6032-575e-a764-b88b2b6c6ec8',\n",
       "  'HTTPStatusCode': 200,\n",
       "  'HTTPHeaders': {'x-amzn-requestid': 'b1abe39f-6032-575e-a764-b88b2b6c6ec8',\n",
       "   'date': 'Fri, 03 Jun 2022 17:47:10 GMT',\n",
       "   'content-type': 'text/xml',\n",
       "   'content-length': '745'},\n",
       "  'RetryAttempts': 0}}"
      ]
     },
     "execution_count": 28,
     "metadata": {},
     "output_type": "execute_result"
    }
   ],
   "source": [
    "response"
   ]
  },
  {
   "cell_type": "markdown",
   "id": "003e6ce7",
   "metadata": {},
   "source": [
    "\n",
    "**Receive and Delete Messages from a Queue**"
   ]
  },
  {
   "cell_type": "code",
   "execution_count": 44,
   "id": "c8965001",
   "metadata": {},
   "outputs": [],
   "source": [
    "import boto3\n",
    "client = boto3.client('sqs', region_name='us-west-2',\n",
    "                    aws_access_key_id=\"AWS ACCESS KEY GOES HERE\", #AWS ACCESS KEY GOES HERE\n",
    "                    aws_secret_access_key=\"SECRETE KEY GOES HERE\") #SECRETE KEY GOES HERE"
   ]
  },
  {
   "cell_type": "code",
   "execution_count": 45,
   "id": "c2f403a3",
   "metadata": {},
   "outputs": [],
   "source": [
    "QueueUrl = \"QUEUE URL GOES HERE\" # QUEUE URL GOES HERE"
   ]
  },
  {
   "cell_type": "code",
   "execution_count": 46,
   "id": "54c44c7b",
   "metadata": {},
   "outputs": [],
   "source": [
    "response = client.receive_message(\n",
    "    QueueUrl=QueueUrl,\n",
    "    AttributeNames=[\n",
    "        'SentTimestamp'\n",
    "    ],\n",
    "    MaxNumberOfMessages=1,\n",
    "    MessageAttributeNames=[\n",
    "        'All'\n",
    "    ],\n",
    "    VisibilityTimeout=0,\n",
    "    WaitTimeSeconds=0\n",
    ")"
   ]
  },
  {
   "cell_type": "code",
   "execution_count": 47,
   "id": "66f5075f",
   "metadata": {},
   "outputs": [
    {
     "data": {
      "text/plain": [
       "{'Messages': [{'MessageId': '4e921651-0d3b-4559-b429-6ec8bb774201',\n",
       "   'ReceiptHandle': 'AQEBvS3LggAtsV/brH7Tv4qrdoLhlYi+vG0ym4Ky5+riJzGvfjZifzVibc8aVzooJu4W/SZEvy+s8qlyfuB1uNTOa9PdcUnRjXLQ2jHrY5ywm+eiLnLf1Pj4yTlNTNf7HKH/zSBh4K2vkqx9ZCZcFHSpvgf0QD2NB+0hw6lWFc00hxHc962SX0Kec7QDytIwKiYPhAe1/JT35nybxdf/Co8+gp2awIvuqGKVg+69lUijI2f9XW9MkshLmUCaDJ853ek4pvQ0PCJMJg4r2yZGxF/yAWn/e8+FN+YyI4cJnubT3tRiX5BBUR1+QlYD1fBYmj6ZRyXTFxgrTNU6o7tLh4gzGukQK6sVhKo78YVsP3AELpI1dAuLvekq54V4Z9cknRApeT0ebL0xAPqiZ0pLEte46Q==',\n",
       "   'MD5OfBody': 'eeb165f292fb4b7c8dbe4838b2940a6f',\n",
       "   'Body': 'Hello World from Python !',\n",
       "   'Attributes': {'SentTimestamp': '1654278638255'}}],\n",
       " 'ResponseMetadata': {'RequestId': 'ad85e071-486b-5d99-b539-bb65040055da',\n",
       "  'HTTPStatusCode': 200,\n",
       "  'HTTPHeaders': {'x-amzn-requestid': 'ad85e071-486b-5d99-b539-bb65040055da',\n",
       "   'date': 'Fri, 03 Jun 2022 17:51:39 GMT',\n",
       "   'content-type': 'text/xml',\n",
       "   'content-length': '953'},\n",
       "  'RetryAttempts': 0}}"
      ]
     },
     "execution_count": 47,
     "metadata": {},
     "output_type": "execute_result"
    }
   ],
   "source": [
    "response"
   ]
  },
  {
   "cell_type": "code",
   "execution_count": 48,
   "id": "50d30432",
   "metadata": {},
   "outputs": [],
   "source": [
    "message = response['Messages'][0]"
   ]
  },
  {
   "cell_type": "code",
   "execution_count": 49,
   "id": "a6d74cce",
   "metadata": {},
   "outputs": [
    {
     "data": {
      "text/plain": [
       "{'MessageId': '4e921651-0d3b-4559-b429-6ec8bb774201',\n",
       " 'ReceiptHandle': 'AQEBvS3LggAtsV/brH7Tv4qrdoLhlYi+vG0ym4Ky5+riJzGvfjZifzVibc8aVzooJu4W/SZEvy+s8qlyfuB1uNTOa9PdcUnRjXLQ2jHrY5ywm+eiLnLf1Pj4yTlNTNf7HKH/zSBh4K2vkqx9ZCZcFHSpvgf0QD2NB+0hw6lWFc00hxHc962SX0Kec7QDytIwKiYPhAe1/JT35nybxdf/Co8+gp2awIvuqGKVg+69lUijI2f9XW9MkshLmUCaDJ853ek4pvQ0PCJMJg4r2yZGxF/yAWn/e8+FN+YyI4cJnubT3tRiX5BBUR1+QlYD1fBYmj6ZRyXTFxgrTNU6o7tLh4gzGukQK6sVhKo78YVsP3AELpI1dAuLvekq54V4Z9cknRApeT0ebL0xAPqiZ0pLEte46Q==',\n",
       " 'MD5OfBody': 'eeb165f292fb4b7c8dbe4838b2940a6f',\n",
       " 'Body': 'Hello World from Python !',\n",
       " 'Attributes': {'SentTimestamp': '1654278638255'}}"
      ]
     },
     "execution_count": 49,
     "metadata": {},
     "output_type": "execute_result"
    }
   ],
   "source": [
    "message"
   ]
  },
  {
   "cell_type": "code",
   "execution_count": 50,
   "id": "060b60f8",
   "metadata": {},
   "outputs": [],
   "source": [
    "receipt_handle = message['ReceiptHandle']"
   ]
  },
  {
   "cell_type": "code",
   "execution_count": 51,
   "id": "1ed0dd44",
   "metadata": {},
   "outputs": [
    {
     "data": {
      "text/plain": [
       "'AQEBvS3LggAtsV/brH7Tv4qrdoLhlYi+vG0ym4Ky5+riJzGvfjZifzVibc8aVzooJu4W/SZEvy+s8qlyfuB1uNTOa9PdcUnRjXLQ2jHrY5ywm+eiLnLf1Pj4yTlNTNf7HKH/zSBh4K2vkqx9ZCZcFHSpvgf0QD2NB+0hw6lWFc00hxHc962SX0Kec7QDytIwKiYPhAe1/JT35nybxdf/Co8+gp2awIvuqGKVg+69lUijI2f9XW9MkshLmUCaDJ853ek4pvQ0PCJMJg4r2yZGxF/yAWn/e8+FN+YyI4cJnubT3tRiX5BBUR1+QlYD1fBYmj6ZRyXTFxgrTNU6o7tLh4gzGukQK6sVhKo78YVsP3AELpI1dAuLvekq54V4Z9cknRApeT0ebL0xAPqiZ0pLEte46Q=='"
      ]
     },
     "execution_count": 51,
     "metadata": {},
     "output_type": "execute_result"
    }
   ],
   "source": [
    "receipt_handle"
   ]
  },
  {
   "cell_type": "code",
   "execution_count": 52,
   "id": "6dcfd96a",
   "metadata": {},
   "outputs": [
    {
     "data": {
      "text/plain": [
       "{'ResponseMetadata': {'RequestId': '34c3d7ae-1f81-5e0d-86a5-8cba5304264e',\n",
       "  'HTTPStatusCode': 200,\n",
       "  'HTTPHeaders': {'x-amzn-requestid': '34c3d7ae-1f81-5e0d-86a5-8cba5304264e',\n",
       "   'date': 'Fri, 03 Jun 2022 17:52:05 GMT',\n",
       "   'content-type': 'text/xml',\n",
       "   'content-length': '215'},\n",
       "  'RetryAttempts': 0}}"
      ]
     },
     "execution_count": 52,
     "metadata": {},
     "output_type": "execute_result"
    }
   ],
   "source": [
    "client.delete_message(\n",
    "    QueueUrl=QueueUrl,\n",
    "    ReceiptHandle=receipt_handle\n",
    ")"
   ]
  }
 ],
 "metadata": {
  "kernelspec": {
   "display_name": "Python 3 (ipykernel)",
   "language": "python",
   "name": "python3"
  },
  "language_info": {
   "codemirror_mode": {
    "name": "ipython",
    "version": 3
   },
   "file_extension": ".py",
   "mimetype": "text/x-python",
   "name": "python",
   "nbconvert_exporter": "python",
   "pygments_lexer": "ipython3",
   "version": "3.9.7"
  }
 },
 "nbformat": 4,
 "nbformat_minor": 5
}
